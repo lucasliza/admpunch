{
 "cells": [
  {
   "cell_type": "markdown",
   "id": "651f3aab-0ba2-46ad-afa7-2fdf961b496c",
   "metadata": {
    "editable": true,
    "slideshow": {
     "slide_type": ""
    },
    "tags": []
   },
   "source": [
    "# Amostragem e Divisão de Imagens\n",
    "\n",
    "\n",
    "Este notebook pega uma amostra aleatória das suas imagens JPG e as divide em conjuntos de treino (90%) e validação (10%).\n",
    "\n",
    "Isso é uma etapa fundamental no pipeline de aprendizado de máquina, garantindo que você tenha dados separados para treinar seu modelo e avaliar seu desempenho em dados que ele nunca viu antes."
   ]
  },
  {
   "cell_type": "markdown",
   "id": "361899f4-9128-4125-85c5-d48002f65800",
   "metadata": {},
   "source": [
    "## 1. Importar bibliotecas necessárias\n",
    "Esta célula importa as bibliotecas Python essenciais para o nosso script"
   ]
  },
  {
   "cell_type": "code",
   "execution_count": null,
   "id": "0aec8678-f89b-4457-91ba-a59786a2fb66",
   "metadata": {},
   "outputs": [],
   "source": [
    "import os\n",
    "import random \n",
    "import shutil\n",
    "from tqdm import tqdm"
   ]
  },
  {
   "cell_type": "markdown",
   "id": "2ff831f3-a099-43ae-b94b-01c7d62085f2",
   "metadata": {},
   "source": [
    "## 2. Definir a função de amostragem de imagens\n",
    "Esta função fará o trabalho principal de:\n",
    "\n",
    "1. Escanear a pasta de origem em busca de imagens.\n",
    "2. Amostrar aleatoriamente o número especificado de imagens.\n",
    "3. Dividir as imagens amostradas em conjuntos de treino (90%) e validação (10%).\n",
    "4. Copiar as imagens para as pastas respectivas."
   ]
  },
  {
   "cell_type": "code",
   "execution_count": null,
   "id": "af1394da-558f-4712-9063-bb95153fada7",
   "metadata": {},
   "outputs": [],
   "source": [
    "def sample_images(source_folder: str, destination_folder: str, sample_size: int, train_ratio: float = 0.9) -> None:\n",
    "    print(f\"\\n --- Iniciando a amostragem e divisão de imagens do seu diretório: '{source_folder}' ---\")\n",
    "    \n",
    "    # 1. Garantir que as pastas de destino existam\n",
    "    train_folder = os.path.join(destination_folder, 'train')\n",
    "    val_folder = os.path.join(destination_folder, 'val')\n",
    "    os.makedirs(train_folder, exist_ok=True)\n",
    "    os.makedirs(val_folder, exist_ok=True)\n",
    "    print(f\"Pastas de destino ('{train_folder}' e '{val_folder}') estão preparadas.{COLOR_RESET}\")\n",
    "\n",
    "    # 2. Listar todos os arquivos de imagem na pasta de origem e suas subpastas\n",
    "    all_images = []\n",
    "    print(f\"  {BLUE}Escaneando '{source_folder}' em busca de imagens...{COLOR_RESET}\")\n",
    "    for root, dirs, files in os.walk(source_folder):\n",
    "        for file in files:\n",
    "            if file.lower().endswith(('.png', '.jpg', '.jpeg')):\n",
    "                all_images.append(os.path.join(root, file))\n",
    "    \n",
    "    # 3. Lidar com o caso onde nenhuma imagem é encontrada\n",
    "    if not all_images:\n",
    "        print(f\"\\n --- AVISO: Ops! Nenhuma imagem JPG/PNG encontrada em '{source_folder}' ou suas subpastas. ---\")\n",
    "        print(f\"Por favor, verifique o caminho especificado e a existência das imagens.\")\n",
    "        return\n",
    "\n",
    "    print(f\"  {BOLD}Total de {len(all_images)} imagens encontradas para processamento.\")\n",
    "\n",
    "    # 4. Verificar se o tamanho da amostra é válido e ajustar se necessário\n",
    "    if sample_size <= 0:\n",
    "        print(f\"\\n--- ERRO: O tamanho da amostra deve ser um número positivo. A operação foi abortada. ---\")\n",
    "        return\n",
    "    if sample_size > len(all_images):\n",
    "        print(f\"\\n--- AVISO: O tamanho da amostra solicitado ({sample_size}) é maior do que o número total de imagens disponíveis ({len(all_images)}). ---\")\n",
    "        sample_size = len(all_images)\n",
    "        print(f\"Amostra ajustada para incluir todas as {sample_size} imagens disponíveis.\")\n",
    "\n",
    "    # 5. Amostrar imagens aleatoriamente\n",
    "    sampled_images = random.sample(all_images, sample_size)\n",
    "    print(f\"Foram selecionadas aleatoriamente {len(sampled_images)} imagens para a amostra final.\")\n",
    "\n",
    "    # 6. Calcular a divisão (treino/validação)\n",
    "    train_size = int(train_ratio * sample_size)\n",
    "    val_size = sample_size - train_size # O restante vai para validação\n",
    "\n",
    "    # 7. Embaralhar a amostra antes de dividir para garantir aleatoriedade na divisão\n",
    "    random.shuffle(sampled_images)\n",
    "    train_images = sampled_images[:train_size]\n",
    "    val_images = sampled_images[train_size:]\n",
    "\n",
    "    print(f\"Divisão da amostra: Treino = {len(train_images)} imagens, Validação = {len(val_images)} imagens.\")\n",
    "\n",
    "    # 8. Copiar as imagens amostradas para as pastas de destino\n",
    "    print(f\"\\n--- Copiando imagens para o conjunto de TREINO em '{train_folder}' ---\")\n",
    "    for img_path in tqdm(train_images):\n",
    "        dst_path = os.path.join(train_folder, os.path.basename(img_path))\n",
    "        try:\n",
    "            shutil.copy2(img_path, dst_path)\n",
    "        except Exception as e:\n",
    "            print(f\"ERRO AO COPIAR: Não foi possível copiar '{os.path.basename(img_path)}'.\")\n",
    "            print(f\"Detalhes: {e}. Verifique as permissões de arquivo ou o caminho de origem/destino.\")\n",
    "\n",
    "    print(f\"\\n --- Copiando imagens para o conjunto de VALIDAÇÃO em '{val_folder}' ---\")\n",
    "    for img_path in tqdm(val_images):\n",
    "        dst_path = os.path.join(val_folder, os.path.basename(img_path))\n",
    "        try:\n",
    "            shutil.copy2(img_path, dst_path)\n",
    "        except Exception as e:\n",
    "            print(f\"ERRO AO COPIAR: Não foi possível copiar '{os.path.basename(img_path)}'.\")\n",
    "            print(f\"Detalhes: {e}. Verifique as permissões de arquivo ou o caminho de origem/destino.\")"
   ]
  },
  {
   "cell_type": "markdown",
   "id": "000d396f-3bfa-46ad-a866-93d4db7ddbf6",
   "metadata": {},
   "source": [
    "## 3. Definir parâmetros de entrada\n",
    "\n",
    "Esta célula define as variáveis de entrada para o script:"
   ]
  },
  {
   "cell_type": "code",
   "execution_count": null,
   "id": "c8a4b5e4-998e-44dd-8520-ab6366da0073",
   "metadata": {},
   "outputs": [],
   "source": [
    "source_folder = 'JPG_Images'  # Onde suas imagens JPG convertidas estão localizadas (do Notebook 2)\n",
    "destination_folder = 'sampled_datasets' # Onde os conjuntos de treino e validação serão criados\n",
    "sample_size = 1000 # O número total de imagens que você quer amostrar\n",
    "train_ratio = 0.9  # 90% para treino, 10% para validação"
   ]
  },
  {
   "cell_type": "markdown",
   "id": "24ed4277-1d39-4fc0-a846-ee6a0236bfc9",
   "metadata": {},
   "source": [
    "## 4. Executar a função de amostragem\n",
    "\n",
    "Essa célula executará o processo de amostragem com base em sua entrada:"
   ]
  },
  {
   "cell_type": "code",
   "execution_count": null,
   "id": "abd52065-0cdf-469f-9b6a-aa3c419b7a5c",
   "metadata": {},
   "outputs": [],
   "source": [
    "print(f\"\\nParâmetros definidos para esta execução:\")\n",
    "print(f\"  Pasta de Origem: {source_folder}\")\n",
    "print(f\"  Pasta de Destino: {destination_folder}\")\n",
    "print(f\"  Tamanho da Amostra: {sample_size} imagens\")\n",
    "print(f\"  Proporção de Treino: {train_ratio*100}%\")\n",
    "\n",
    "try:\n",
    "    sample_images(source_folder, destination_folder, sample_size, train_ratio)\n",
    "    print(f\"\\n --- Amostragem de imagens concluída com sucesso! ---\")\n",
    "    print(f\"Seus conjuntos de dados estão prontos. Verifique-os em:\")\n",
    "    print(f\"Treino: {os.path.abspath(os.path.join(destination_folder, 'train'))}\")\n",
    "    print(f\"Validação: {os.path.abspath(os.path.join(destination_folder, 'val'))}\")\n",
    "except Exception as e:\n",
    "    print(f\"\\n --- ERRO CRÍTICO: Ocorreu um problema durante a amostragem de imagens! ---\")\n",
    "    print(f\"Detalhes do erro: {str(e)}\")\n",
    "    print(f\"Por favor, verifique se os caminhos das pastas estão corretos e se você tem as permissões necessárias para leitura e escrita.\")"
   ]
  }
 ],
 "metadata": {
  "kernelspec": {
   "display_name": "Python 3 (ipykernel)",
   "language": "python",
   "name": "python3"
  },
  "language_info": {
   "codemirror_mode": {
    "name": "ipython",
    "version": 3
   },
   "file_extension": ".py",
   "mimetype": "text/x-python",
   "name": "python",
   "nbconvert_exporter": "python",
   "pygments_lexer": "ipython3",
   "version": "3.12.5"
  }
 },
 "nbformat": 4,
 "nbformat_minor": 5
}
